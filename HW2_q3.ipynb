{
 "cells": [
  {
   "cell_type": "markdown",
   "metadata": {},
   "source": [
    "# HW2 Problem 3"
   ]
  },
  {
   "cell_type": "code",
   "execution_count": 1,
   "metadata": {},
   "outputs": [],
   "source": [
    "import numpy as np\n",
    "import matplotlib.pyplot as plt\n",
    "%matplotlib notebook"
   ]
  },
  {
   "cell_type": "code",
   "execution_count": 60,
   "metadata": {},
   "outputs": [],
   "source": [
    "def get_distance_angle(A, B):\n",
    "    \"\"\" Returns distance and angle of the line between two points.\n",
    "        Input: \n",
    "            A - numpy array of [lat, lon] in degree\n",
    "            B - numpy array of [lat, lon] in degree\n",
    "        Return:\n",
    "            L_AB - np.array([L_NS (km), L_EW (km)])\n",
    "            A_AB - Angle of line AB measured from the E-W line, positive anticlockwise\n",
    "    \"\"\"\n",
    "    R = 6371.0 # km.\n",
    "    dist_factor = np.pi*R/180.0\n",
    "    phiAB = 0.5*(A[0]+B[0])*np.pi/180.0\n",
    "    \n",
    "    L_NS = (B[1]-A[1])*dist_factor   #((B_lat)-(A_lat))*((np.pi*6378)/180)\n",
    "    L_EW = (B[0]-A[0])*dist_factor*phiAB\n",
    "    L_AB = np.array([L_NS, L_EW])\n",
    "    \n",
    "    # Note: ||v|| corresponds to np.linalg.norm(v), \n",
    "    # where v is a vector as a numpy array.\n",
    "    Dist_AB = np.linalg.norm(L_AB)\n",
    "    print(\"Distance: {0:8.4f} km\".format(Dist_AB))\n",
    "\n",
    "    A_AB = np.arctan(L_NS/L_EW)\n",
    "    print(\"Angle: {0:8.4f} deg \".format(A_AB*180.0/np.pi))\n",
    "    \n",
    "    return L_AB, A_AB\n",
    "\n",
    "def get_vel_mag_dir(V):\n",
    "    \"\"\" Computes and prints magnitude and direction of a given velocity vector.\n",
    "        Input:\n",
    "            V - velocity vector, np.array([V_north, V_east])\n",
    "        Output:\n",
    "            prints magnitude (||V||) in mm/yr and direction in degrees (atan(V_E/V_N)) relative to North are returned.\n",
    "    \"\"\"\n",
    "    # Note: ||v|| corresponds to np.linalg.norm(v), \n",
    "    # where v is a vector as a numpy array.\n",
    "\n",
    "    vel_mag = np.linalg.norm(V)*1e6 # To be completed. Be careful about unit. \n",
    "    vel_dir = (np.arctan(V[1]/V[0]))*180/np.pi # To be completed. Be careful about unit.\n",
    "    # magnitude in mm/yr and direction relative to North.\n",
    "    print(\"mag: {0:8.4f} mm/yr, direction: {1:8.4f} deg\".format(vel_mag, vel_dir))\n",
    "    \n",
    "def get_Ldot_edot(L_AB, A_AB, VA, VB):\n",
    "    \"\"\" Computes the time rate of change of the distance between A and B; and strain rate\n",
    "        along the line connecting A and B.\n",
    "        Input:\n",
    "            L_AB - Distance vector returned from get_distance_angle() function\n",
    "            A_AB - Angle returned from get_distance_angle() function\n",
    "            VA   - Velocity vector of monument A: [VA_north, VA_east]\n",
    "            VB   - Velocity vector of monument B: [VB_north, VB_east]\n",
    "        Return:\n",
    "            Ldot_AB - Rate of change of distance between A and B\n",
    "            edot_AB - Strain rate along the line AB, Ldot_AB/L_AB.\n",
    "    \"\"\"\n",
    "    Ldot_AB = (VB[0] - VA[0])*np.sin(A_AB) + (VB[1] - VA[1])*np.cos(A_AB)  # To be completed.\n",
    "    edot_AB = -(Ldot_AB*1e-6/np.linalg.norm(L_AB)) # To be completed.\n",
    "    return Ldot_AB, edot_AB"
   ]
  },
  {
   "cell_type": "markdown",
   "metadata": {},
   "source": [
    "## 1) Problem 2-34 of T&S"
   ]
  },
  {
   "cell_type": "code",
   "execution_count": 62,
   "metadata": {},
   "outputs": [],
   "source": [
    "# Data for Problem 2.34\n",
    "A = np.array([38.3137, -123.0689]) # lat, lon degrees\n",
    "B = np.array([38.4442, -122.1953])\n",
    "C = np.array([38.7778, -122.5758])\n",
    "\n",
    "VA = np.array([33.0e-6, -24.0e-6]) # VN, VE km/yr\n",
    "VB = np.array([10.0e-6, -13.0e-6])\n",
    "VC = np.array([16.0e-6, -14.0e-6])"
   ]
  },
  {
   "cell_type": "markdown",
   "metadata": {},
   "source": [
    "### (i) line lengths and directions"
   ]
  },
  {
   "cell_type": "code",
   "execution_count": 75,
   "metadata": {},
   "outputs": [
    {
     "name": "stdout",
     "output_type": "stream",
     "text": [
      "Distance:  97.6250 km\n",
      "Angle:  84.2859 deg \n",
      "Distance:  64.8974 km\n",
      "Angle:  57.6586 deg \n",
      "Distance:  49.1426 km\n",
      "Angle: -59.4243 deg \n",
      "A_BC_geom = 239.4243 deg\n"
     ]
    }
   ],
   "source": [
    "L_AB, A_AB = get_distance_angle(A,B)\n",
    "L_AC, A_AC = get_distance_angle(A,C)\n",
    "L_BC, A_BC = get_distance_angle(B,C)\n",
    "# Based on the geometry, A_BC_geom is defined to be between 0 and 90 deg.\n",
    "A_BC_geom = np.pi - A_BC\n",
    "#print((A_BC_geom*180.0/np.pi))\n",
    "print(\"A_BC_geom = {0:8.4f} deg\".format(A_BC_geom*180.0/np.pi))"
   ]
  },
  {
   "cell_type": "markdown",
   "metadata": {},
   "source": [
    "### (ii) velocity vectors: [N, E]. Units: km/yr."
   ]
  },
  {
   "cell_type": "code",
   "execution_count": 64,
   "metadata": {},
   "outputs": [
    {
     "name": "stdout",
     "output_type": "stream",
     "text": [
      "mag:  40.8044 mm/yr, direction: -36.0274 deg\n",
      "mag:  16.4012 mm/yr, direction: -52.4314 deg\n",
      "mag:  21.2603 mm/yr, direction: -41.1859 deg\n"
     ]
    }
   ],
   "source": [
    "get_vel_mag_dir(VA)\n",
    "get_vel_mag_dir(VB)\n",
    "get_vel_mag_dir(VC) "
   ]
  },
  {
   "cell_type": "markdown",
   "metadata": {},
   "source": [
    "### (iii) Length change rates (km/yr) and strain rates (/yr)"
   ]
  },
  {
   "cell_type": "code",
   "execution_count": 81,
   "metadata": {},
   "outputs": [
    {
     "name": "stdout",
     "output_type": "stream",
     "text": [
      "AB: Ldot=-2.1791e-05 km/yr, edot=2.2321e-13 /yr\n",
      "AC: Ldot=-9.0133e-06 km/yr, edot=1.3888e-13 /yr\n",
      "BC: Ldot=-5.6744e-06 km/yr, edot=1.1547e-13 /yr\n"
     ]
    }
   ],
   "source": [
    "# Ldot_AB = (VB-VA)[0]*cos(79.2deg) + (VB-VA)[1]*cos(10.8deg).\n",
    "Ldot_AB, edot_AB = get_Ldot_edot( L_AB, A_AB, VA, VB )\n",
    "\n",
    "# Ldot_AC = (VC-VA)[0]*cos(39.7deg) + (VC-VA)[1]*cos(50.3deg).\n",
    "Ldot_AC ,edot_AC = get_Ldot_edot( L_AC, A_AC, VA, VC )\n",
    "\n",
    "# Ldot_BC = (VC-VB)[0]*cos(41.7deg) + (VC-VB)[1]*cos(48.3deg).\n",
    "Ldot_BC, edot_BC = get_Ldot_edot( L_BC, A_BC, VB, VC )\n",
    "\n",
    "# print Ldot's and edot's. Units are km/yr and /yr, respectively.\n",
    "print(\"AB: Ldot={0:8.4e} km/yr, edot={1:8.4e} /yr\".format(Ldot_AB, edot_AB))\n",
    "print(\"AC: Ldot={0:8.4e} km/yr, edot={1:8.4e} /yr\".format(Ldot_AC, edot_AC))\n",
    "print(\"BC: Ldot={0:8.4e} km/yr, edot={1:8.4e} /yr\".format(Ldot_BC, edot_BC))"
   ]
  },
  {
   "cell_type": "markdown",
   "metadata": {},
   "source": [
    "### (iv) $\\theta_{1}$ ($^{\\circ}$), $\\theta_{2}$ ($^{\\circ}$), $\\dot{\\varepsilon}_{zz}$ (/yr), and $\\dot{\\varepsilon}_{xz}$ (/yr)"
   ]
  },
  {
   "cell_type": "code",
   "execution_count": 96,
   "metadata": {},
   "outputs": [
    {
     "name": "stdout",
     "output_type": "stream",
     "text": [
      "theta1 = -26.6273 deg, theta2 = 155.1384 deg\n",
      "edot_zz = 2.1178e-12 /yr, edot_xz = 5.8016e-13 /yr\n"
     ]
    }
   ],
   "source": [
    "theta1 = (A_AC - A_AB) # To be completed\n",
    "theta2 = ((np.pi/180 * 180) - A_AB - A_BC) # To be completed\n",
    "\n",
    "cot1 = 1.0/np.tan(theta1)\n",
    "cot2 = 1.0/np.tan(theta2)\n",
    "sec1 = 1.0/np.cos(theta1)\n",
    "sec2 = 1.0/np.cos(theta2)\n",
    "csc1 = 1.0/np.sin(theta1)\n",
    "csc2 = 1.0/np.sin(theta2)\n",
    "\n",
    "edot_zz = (edot_AB*(cot1 - cot2) - edot_AC*sec1*csc1 + edot_BC*sec2*csc2)/(np.tan(theta2) - np.tan(theta1))\n",
    "edot_xz = (edot_AB*(cot1**2 - cot2**2) - edot_AC*csc1**2 + edot_BC*csc2**2)/(2*(cot2 - cot1))\n",
    "print(\"theta1 = {0:8.4f} deg, theta2 = {1:8.4f} deg\".format(theta1*180.0/np.pi, theta2*180.0/np.pi))\n",
    "print(\"edot_zz = {0:8.4e} /yr, edot_xz = {1:8.4e} /yr\".format(edot_zz, edot_xz))"
   ]
  },
  {
   "cell_type": "markdown",
   "metadata": {},
   "source": [
    "### 2) Problem 2-35 "
   ]
  },
  {
   "cell_type": "code",
   "execution_count": 97,
   "metadata": {},
   "outputs": [],
   "source": [
    "# Data for Problem 2.35\n",
    "A = np.array([37.1924, -122.3669]) # lat, lon degrees\n",
    "B = np.array([36.8063, -120.7431])\n",
    "C = np.array([37.7553, -121.4640])\n",
    "\n",
    "VA = np.array([36.0e-6, -29.0e-6]) # VN, VE km/yr\n",
    "VB = np.array([9.0e-6, -10.0e-6])\n",
    "VC = np.array([8.0e-6, -12.0e-6])"
   ]
  },
  {
   "cell_type": "markdown",
   "metadata": {},
   "source": [
    "### (i) line lengths and directions"
   ]
  },
  {
   "cell_type": "code",
   "execution_count": 98,
   "metadata": {},
   "outputs": [
    {
     "name": "stdout",
     "output_type": "stream",
     "text": [
      "Distance: 182.6744 km\n",
      "Angle: -81.2706 deg \n",
      "Distance: 108.4233 km\n",
      "Angle:  67.8167 deg \n",
      "Distance: 105.5467 km\n",
      "Angle: -49.4182 deg \n",
      "A_BC_geom = 229.4182 deg\n"
     ]
    }
   ],
   "source": [
    "# Repeat the procedure for Problem 2-34\n",
    "L_AB, A_AB = get_distance_angle(A,B)\n",
    "L_AC, A_AC = get_distance_angle(A,C)\n",
    "L_BC, A_BC = get_distance_angle(B,C)\n",
    "# Based on the geometry, A_BC_geom is defined to be between 0 and 90 deg.\n",
    "A_BC_geom = np.pi - A_BC\n",
    "#print((A_BC_geom*180.0/np.pi))\n",
    "print(\"A_BC_geom = {0:8.4f} deg\".format(A_BC_geom*180.0/np.pi))"
   ]
  },
  {
   "cell_type": "markdown",
   "metadata": {},
   "source": [
    "### (ii) velocity vectors: [N, E]. Units: km/yr."
   ]
  },
  {
   "cell_type": "code",
   "execution_count": 99,
   "metadata": {},
   "outputs": [
    {
     "name": "stdout",
     "output_type": "stream",
     "text": [
      "mag:  46.2277 mm/yr, direction: -38.8534 deg\n",
      "mag:  13.4536 mm/yr, direction: -48.0128 deg\n",
      "mag:  14.4222 mm/yr, direction: -56.3099 deg\n"
     ]
    }
   ],
   "source": [
    "# Repeat the procedure for Problem 2-34\n",
    "get_vel_mag_dir(VA)\n",
    "get_vel_mag_dir(VB)\n",
    "get_vel_mag_dir(VC)"
   ]
  },
  {
   "cell_type": "markdown",
   "metadata": {},
   "source": [
    "### (iii) Length change rates (km/yr) and strain rates (/yr)"
   ]
  },
  {
   "cell_type": "code",
   "execution_count": 101,
   "metadata": {},
   "outputs": [
    {
     "name": "stdout",
     "output_type": "stream",
     "text": [
      "AB: Ldot = 2.9571e-05 km/yr, edot = -1.6188e-13 /yr\n",
      "AC: Ldot = -1.9509e-05 km/yr, edot = 1.7993e-13 /yr\n",
      "BC: Ldot = -5.4159e-07 km/yr, edot = 5.1313e-15 /yr\n"
     ]
    }
   ],
   "source": [
    "# Repeat the procedure for Problem 2-34\n",
    "# Ldot_AB = (VB-VA)[0]*cos(79.2deg) + (VB-VA)[1]*cos(10.8deg).\n",
    "Ldot_AB, edot_AB = get_Ldot_edot( L_AB, A_AB, VA, VB )\n",
    "\n",
    "# Ldot_AC = (VC-VA)[0]*cos(39.7deg) + (VC-VA)[1]*cos(50.3deg).\n",
    "Ldot_AC ,edot_AC = get_Ldot_edot( L_AC, A_AC, VA, VC )\n",
    "\n",
    "# Ldot_BC = (VC-VB)[0]*cos(41.7deg) + (VC-VB)[1]*cos(48.3deg).\n",
    "Ldot_BC, edot_BC = get_Ldot_edot( L_BC, A_BC, VB, VC )\n",
    "\n",
    "# print Ldot's and edot's. Units are km/yr and /yr, respectively.\n",
    "print(\"AB: Ldot = {0:8.4e} km/yr, edot = {1:8.4e} /yr\".format(Ldot_AB, edot_AB))\n",
    "print(\"AC: Ldot = {0:8.4e} km/yr, edot = {1:8.4e} /yr\".format(Ldot_AC, edot_AC))\n",
    "print(\"BC: Ldot = {0:8.4e} km/yr, edot = {1:8.4e} /yr\".format(Ldot_BC, edot_BC))"
   ]
  },
  {
   "cell_type": "markdown",
   "metadata": {},
   "source": [
    "### (iv) $\\theta_{1}$ ($^{\\circ}$), $\\theta_{2}$ ($^{\\circ}$), $\\dot{\\varepsilon}_{zz}$ (/yr), and $\\dot{\\varepsilon}_{xz}$ (/yr)"
   ]
  },
  {
   "cell_type": "code",
   "execution_count": 102,
   "metadata": {},
   "outputs": [
    {
     "name": "stdout",
     "output_type": "stream",
     "text": [
      "theta1 = 149.0873 deg, theta2 = 310.6889 deg\n",
      "edot_zz = -9.3751e-13 /yr, edot_xz = -6.1997e-13 /yr\n"
     ]
    }
   ],
   "source": [
    "# Repeat the procedure for Problem 2-34\n",
    "theta1 = (A_AC - A_AB) # To be completed\n",
    "theta2 = ((np.pi/180 * 180) - A_AB - A_BC) # To be completed\n",
    "\n",
    "cot1 = 1.0/np.tan(theta1)\n",
    "cot2 = 1.0/np.tan(theta2)\n",
    "sec1 = 1.0/np.cos(theta1)\n",
    "sec2 = 1.0/np.cos(theta2)\n",
    "csc1 = 1.0/np.sin(theta1)\n",
    "csc2 = 1.0/np.sin(theta2)\n",
    "\n",
    "edot_zz = (edot_AB*(cot1 - cot2) - edot_AC*sec1*csc1 + edot_BC*sec2*csc2)/(np.tan(theta2) - np.tan(theta1))\n",
    "edot_xz = (edot_AB*(cot1**2 - cot2**2) - edot_AC*csc1**2 + edot_BC*csc2**2)/(2*(cot2 - cot1))\n",
    "print(\"theta1 = {0:8.4f} deg, theta2 = {1:8.4f} deg\".format(theta1*180.0/np.pi, theta2*180.0/np.pi))\n",
    "print(\"edot_zz = {0:8.4e} /yr, edot_xz = {1:8.4e} /yr\".format(edot_zz, edot_xz))"
   ]
  },
  {
   "cell_type": "code",
   "execution_count": null,
   "metadata": {},
   "outputs": [],
   "source": []
  }
 ],
 "metadata": {
  "kernelspec": {
   "display_name": "Python 3",
   "language": "python",
   "name": "python3"
  },
  "language_info": {
   "codemirror_mode": {
    "name": "ipython",
    "version": 3
   },
   "file_extension": ".py",
   "mimetype": "text/x-python",
   "name": "python",
   "nbconvert_exporter": "python",
   "pygments_lexer": "ipython3",
   "version": "3.6.4"
  }
 },
 "nbformat": 4,
 "nbformat_minor": 1
}
